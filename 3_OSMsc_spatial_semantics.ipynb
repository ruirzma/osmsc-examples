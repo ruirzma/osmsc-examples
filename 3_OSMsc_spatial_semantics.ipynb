{
 "cells": [
  {
   "attachments": {},
   "cell_type": "markdown",
   "metadata": {},
   "source": [
    "# [OSMsc](https://github.com/ruirzma/osmsc) spatial semantics.\n",
    "\n",
    "The main content of this notebook is spatial semantics."
   ]
  },
  {
   "cell_type": "code",
   "execution_count": 1,
   "metadata": {},
   "outputs": [
    {
     "name": "stdout",
     "output_type": "stream",
     "text": [
      "OSMsc has been successfully imported!!!\n"
     ]
    }
   ],
   "source": [
    "import osmsc as oc\n",
    "import osmnx as ox\n",
    "import numpy as np"
   ]
  },
  {
   "cell_type": "code",
   "execution_count": 2,
   "metadata": {},
   "outputs": [],
   "source": [
    "cityName = \"Paris\"\n",
    "bbox_Paris = (48.8695, 2.3908, 48.8825, 2.4108)"
   ]
  },
  {
   "cell_type": "code",
   "execution_count": 3,
   "metadata": {},
   "outputs": [
    {
     "data": {
      "text/html": [
       "<div>\n",
       "<style scoped>\n",
       "    .dataframe tbody tr th:only-of-type {\n",
       "        vertical-align: middle;\n",
       "    }\n",
       "\n",
       "    .dataframe tbody tr th {\n",
       "        vertical-align: top;\n",
       "    }\n",
       "\n",
       "    .dataframe thead th {\n",
       "        text-align: right;\n",
       "    }\n",
       "</style>\n",
       "<table border=\"1\" class=\"dataframe\">\n",
       "  <thead>\n",
       "    <tr style=\"text-align: right;\">\n",
       "      <th></th>\n",
       "      <th>osmid</th>\n",
       "      <th>geometry</th>\n",
       "      <th>tags</th>\n",
       "      <th>building_levels</th>\n",
       "      <th>osmscID</th>\n",
       "      <th>Building_area</th>\n",
       "      <th>Building_perimeter</th>\n",
       "      <th>Building_height</th>\n",
       "    </tr>\n",
       "  </thead>\n",
       "  <tbody>\n",
       "    <tr>\n",
       "      <th>0</th>\n",
       "      <td>63212010</td>\n",
       "      <td>POLYGON ((2.39680 48.88232, 2.39673 48.88237, ...</td>\n",
       "      <td>{'building': 'yes', 'building:levels': '9', 's...</td>\n",
       "      <td>9</td>\n",
       "      <td>Building_63212010</td>\n",
       "      <td>425.941590</td>\n",
       "      <td>126.101343</td>\n",
       "      <td>27</td>\n",
       "    </tr>\n",
       "    <tr>\n",
       "      <th>1</th>\n",
       "      <td>63212012</td>\n",
       "      <td>POLYGON ((2.39486 48.87986, 2.39472 48.87985, ...</td>\n",
       "      <td>{'building': 'house', 'source': 'cadastre-dgi-...</td>\n",
       "      <td>1</td>\n",
       "      <td>Building_63212012</td>\n",
       "      <td>42.765888</td>\n",
       "      <td>29.051447</td>\n",
       "      <td>3</td>\n",
       "    </tr>\n",
       "    <tr>\n",
       "      <th>2</th>\n",
       "      <td>63212018</td>\n",
       "      <td>POLYGON ((2.39156 48.88066, 2.39154 48.88068, ...</td>\n",
       "      <td>{'building': 'yes', 'building:levels': '1', 's...</td>\n",
       "      <td>1</td>\n",
       "      <td>Building_63212018</td>\n",
       "      <td>58.690170</td>\n",
       "      <td>33.174859</td>\n",
       "      <td>3</td>\n",
       "    </tr>\n",
       "    <tr>\n",
       "      <th>3</th>\n",
       "      <td>63212023</td>\n",
       "      <td>POLYGON ((2.39126 48.88133, 2.39127 48.88134, ...</td>\n",
       "      <td>{'building': 'yes', 'source': 'cadastre-dgi-fr...</td>\n",
       "      <td>1</td>\n",
       "      <td>Building_63212023</td>\n",
       "      <td>81.502088</td>\n",
       "      <td>43.837655</td>\n",
       "      <td>3</td>\n",
       "    </tr>\n",
       "    <tr>\n",
       "      <th>4</th>\n",
       "      <td>63212025</td>\n",
       "      <td>POLYGON ((2.39941 48.87697, 2.39939 48.87696, ...</td>\n",
       "      <td>{'building': 'yes', 'building:levels': '4', 's...</td>\n",
       "      <td>4</td>\n",
       "      <td>Building_63212025</td>\n",
       "      <td>47.378189</td>\n",
       "      <td>27.752066</td>\n",
       "      <td>12</td>\n",
       "    </tr>\n",
       "  </tbody>\n",
       "</table>\n",
       "</div>"
      ],
      "text/plain": [
       "      osmid                                           geometry  \\\n",
       "0  63212010  POLYGON ((2.39680 48.88232, 2.39673 48.88237, ...   \n",
       "1  63212012  POLYGON ((2.39486 48.87986, 2.39472 48.87985, ...   \n",
       "2  63212018  POLYGON ((2.39156 48.88066, 2.39154 48.88068, ...   \n",
       "3  63212023  POLYGON ((2.39126 48.88133, 2.39127 48.88134, ...   \n",
       "4  63212025  POLYGON ((2.39941 48.87697, 2.39939 48.87696, ...   \n",
       "\n",
       "                                                tags  building_levels  \\\n",
       "0  {'building': 'yes', 'building:levels': '9', 's...                9   \n",
       "1  {'building': 'house', 'source': 'cadastre-dgi-...                1   \n",
       "2  {'building': 'yes', 'building:levels': '1', 's...                1   \n",
       "3  {'building': 'yes', 'source': 'cadastre-dgi-fr...                1   \n",
       "4  {'building': 'yes', 'building:levels': '4', 's...                4   \n",
       "\n",
       "             osmscID  Building_area  Building_perimeter  Building_height  \n",
       "0  Building_63212010     425.941590          126.101343               27  \n",
       "1  Building_63212012      42.765888           29.051447                3  \n",
       "2  Building_63212018      58.690170           33.174859                3  \n",
       "3  Building_63212023      81.502088           43.837655                3  \n",
       "4  Building_63212025      47.378189           27.752066               12  "
      ]
     },
     "execution_count": 3,
     "metadata": {},
     "output_type": "execute_result"
    }
   ],
   "source": [
    "BG = oc.building_group(bbox= bbox_Paris)\n",
    "building_gdf = BG.get_gdf(tags=True, building_levels=True)\n",
    "building_gdf_prj = ox.project_gdf(building_gdf)\n",
    "\n",
    "# If the external building height dataset is unavailable,\n",
    "# Assume building level is 3m\n",
    "building_gdf[\"building_levels\"] = building_gdf[\"building_levels\"].replace(np.nan, 0)\n",
    "building_gdf[\"Building_height\"] = building_gdf[\"building_levels\"] * 3\n",
    "building_gdf.head()"
   ]
  },
  {
   "cell_type": "code",
   "execution_count": 4,
   "metadata": {},
   "outputs": [],
   "source": [
    "VG = oc.vegetation_group(bbox = bbox_Paris)\n",
    "VG_gdf = VG.get_gdf()\n",
    "VG_gdf_prj = ox.project_gdf(VG_gdf)"
   ]
  },
  {
   "cell_type": "code",
   "execution_count": 5,
   "metadata": {},
   "outputs": [],
   "source": [
    "WG = oc.waterbody_group(bbox =bbox_Paris)\n",
    "WG_gdf = WG.get_gdf()\n",
    "WG_gdf_prj = ox.project_gdf(WG_gdf)"
   ]
  },
  {
   "cell_type": "code",
   "execution_count": 6,
   "metadata": {},
   "outputs": [],
   "source": [
    "UG = oc.urban_tile_group(bbox= bbox_Paris, trans_type= ['primary','secondary', 'tertiary'\n",
    "                                                                   ,'residential','motorway','motorway_link'])\n",
    "urban_tile_gdf_prj = UG.get_gdf_prj()"
   ]
  },
  {
   "cell_type": "code",
   "execution_count": 7,
   "metadata": {},
   "outputs": [],
   "source": [
    "urban_tile_gdf_prj = oc.feature.add_spatial_semantics_attr(urban_tile_gdf_prj,building_gdf_prj,\"containsBuilding\")\n",
    "urban_tile_gdf_prj = oc.feature.add_spatial_semantics_attr(urban_tile_gdf_prj,VG_gdf_prj,\"containsVegetation\")\n",
    "urban_tile_gdf_prj = oc.feature.add_spatial_semantics_attr(urban_tile_gdf_prj,WG_gdf_prj,\"containsWaterbody\")"
   ]
  },
  {
   "cell_type": "code",
   "execution_count": 8,
   "metadata": {},
   "outputs": [],
   "source": [
    "building_gdf_prj = oc.feature.add_spatial_semantics_attr(building_gdf_prj,urban_tile_gdf_prj,\"withinUrbanTile\")\n",
    "VG_gdf_prj = oc.feature.add_spatial_semantics_attr(VG_gdf_prj,urban_tile_gdf_prj,\"withinUrbanTile\")\n",
    "WG_gdf_prj = oc.feature.add_spatial_semantics_attr(WG_gdf_prj,urban_tile_gdf_prj,\"withinUrbanTile\")"
   ]
  },
  {
   "cell_type": "code",
   "execution_count": 9,
   "metadata": {},
   "outputs": [
    {
     "data": {
      "text/html": [
       "<div>\n",
       "<style scoped>\n",
       "    .dataframe tbody tr th:only-of-type {\n",
       "        vertical-align: middle;\n",
       "    }\n",
       "\n",
       "    .dataframe tbody tr th {\n",
       "        vertical-align: top;\n",
       "    }\n",
       "\n",
       "    .dataframe thead th {\n",
       "        text-align: right;\n",
       "    }\n",
       "</style>\n",
       "<table border=\"1\" class=\"dataframe\">\n",
       "  <thead>\n",
       "    <tr style=\"text-align: right;\">\n",
       "      <th></th>\n",
       "      <th>osmid</th>\n",
       "      <th>geometry</th>\n",
       "      <th>tags</th>\n",
       "      <th>building_levels</th>\n",
       "      <th>osmscID</th>\n",
       "      <th>Building_area</th>\n",
       "      <th>Building_perimeter</th>\n",
       "      <th>Building_height</th>\n",
       "      <th>withinUrbanTile</th>\n",
       "    </tr>\n",
       "  </thead>\n",
       "  <tbody>\n",
       "    <tr>\n",
       "      <th>0</th>\n",
       "      <td>63212010</td>\n",
       "      <td>POLYGON ((455776.771 5414549.319, 455771.794 5...</td>\n",
       "      <td>{'building': 'yes', 'building:levels': '9', 's...</td>\n",
       "      <td>9</td>\n",
       "      <td>Building_63212010</td>\n",
       "      <td>425.941590</td>\n",
       "      <td>126.101343</td>\n",
       "      <td>27</td>\n",
       "      <td>[UrbanTile_101]</td>\n",
       "    </tr>\n",
       "    <tr>\n",
       "      <th>1</th>\n",
       "      <td>63212012</td>\n",
       "      <td>POLYGON ((455632.293 5414277.024, 455621.889 5...</td>\n",
       "      <td>{'building': 'house', 'source': 'cadastre-dgi-...</td>\n",
       "      <td>1</td>\n",
       "      <td>Building_63212012</td>\n",
       "      <td>42.765888</td>\n",
       "      <td>29.051447</td>\n",
       "      <td>3</td>\n",
       "      <td>[UrbanTile_64]</td>\n",
       "    </tr>\n",
       "  </tbody>\n",
       "</table>\n",
       "</div>"
      ],
      "text/plain": [
       "      osmid                                           geometry  \\\n",
       "0  63212010  POLYGON ((455776.771 5414549.319, 455771.794 5...   \n",
       "1  63212012  POLYGON ((455632.293 5414277.024, 455621.889 5...   \n",
       "\n",
       "                                                tags  building_levels  \\\n",
       "0  {'building': 'yes', 'building:levels': '9', 's...                9   \n",
       "1  {'building': 'house', 'source': 'cadastre-dgi-...                1   \n",
       "\n",
       "             osmscID  Building_area  Building_perimeter  Building_height  \\\n",
       "0  Building_63212010     425.941590          126.101343               27   \n",
       "1  Building_63212012      42.765888           29.051447                3   \n",
       "\n",
       "   withinUrbanTile  \n",
       "0  [UrbanTile_101]  \n",
       "1   [UrbanTile_64]  "
      ]
     },
     "execution_count": 9,
     "metadata": {},
     "output_type": "execute_result"
    }
   ],
   "source": [
    "building_gdf_prj.head(2)"
   ]
  },
  {
   "cell_type": "code",
   "execution_count": 10,
   "metadata": {},
   "outputs": [
    {
     "data": {
      "text/html": [
       "<div>\n",
       "<style scoped>\n",
       "    .dataframe tbody tr th:only-of-type {\n",
       "        vertical-align: middle;\n",
       "    }\n",
       "\n",
       "    .dataframe tbody tr th {\n",
       "        vertical-align: top;\n",
       "    }\n",
       "\n",
       "    .dataframe thead th {\n",
       "        text-align: right;\n",
       "    }\n",
       "</style>\n",
       "<table border=\"1\" class=\"dataframe\">\n",
       "  <thead>\n",
       "    <tr style=\"text-align: right;\">\n",
       "      <th></th>\n",
       "      <th>osmid</th>\n",
       "      <th>geometry</th>\n",
       "      <th>tags</th>\n",
       "      <th>osmscID</th>\n",
       "      <th>Vegetation_area</th>\n",
       "      <th>Vegetation_perimeter</th>\n",
       "      <th>withinUrbanTile</th>\n",
       "    </tr>\n",
       "  </thead>\n",
       "  <tbody>\n",
       "    <tr>\n",
       "      <th>0</th>\n",
       "      <td>19578842</td>\n",
       "      <td>POLYGON ((455790.389 5414633.833, 455760.527 5...</td>\n",
       "      <td>{'barrier': 'fence', 'internet_access': 'wlan'...</td>\n",
       "      <td>Vegetation_19578842</td>\n",
       "      <td>46457.250675</td>\n",
       "      <td>891.458691</td>\n",
       "      <td>[UrbanTile_101]</td>\n",
       "    </tr>\n",
       "    <tr>\n",
       "      <th>1</th>\n",
       "      <td>19579673</td>\n",
       "      <td>POLYGON ((455981.772 5413648.562, 455983.907 5...</td>\n",
       "      <td>{'barrier': 'wall', 'landuse': 'cemetery', 'na...</td>\n",
       "      <td>Vegetation_19579673</td>\n",
       "      <td>16219.725849</td>\n",
       "      <td>588.740451</td>\n",
       "      <td>[UrbanTile_50]</td>\n",
       "    </tr>\n",
       "  </tbody>\n",
       "</table>\n",
       "</div>"
      ],
      "text/plain": [
       "      osmid                                           geometry  \\\n",
       "0  19578842  POLYGON ((455790.389 5414633.833, 455760.527 5...   \n",
       "1  19579673  POLYGON ((455981.772 5413648.562, 455983.907 5...   \n",
       "\n",
       "                                                tags              osmscID  \\\n",
       "0  {'barrier': 'fence', 'internet_access': 'wlan'...  Vegetation_19578842   \n",
       "1  {'barrier': 'wall', 'landuse': 'cemetery', 'na...  Vegetation_19579673   \n",
       "\n",
       "   Vegetation_area  Vegetation_perimeter  withinUrbanTile  \n",
       "0     46457.250675            891.458691  [UrbanTile_101]  \n",
       "1     16219.725849            588.740451   [UrbanTile_50]  "
      ]
     },
     "execution_count": 10,
     "metadata": {},
     "output_type": "execute_result"
    }
   ],
   "source": [
    "VG_gdf_prj.head(2)"
   ]
  },
  {
   "cell_type": "code",
   "execution_count": 11,
   "metadata": {},
   "outputs": [
    {
     "data": {
      "text/html": [
       "<div>\n",
       "<style scoped>\n",
       "    .dataframe tbody tr th:only-of-type {\n",
       "        vertical-align: middle;\n",
       "    }\n",
       "\n",
       "    .dataframe tbody tr th {\n",
       "        vertical-align: top;\n",
       "    }\n",
       "\n",
       "    .dataframe thead th {\n",
       "        text-align: right;\n",
       "    }\n",
       "</style>\n",
       "<table border=\"1\" class=\"dataframe\">\n",
       "  <thead>\n",
       "    <tr style=\"text-align: right;\">\n",
       "      <th></th>\n",
       "      <th>osmid</th>\n",
       "      <th>geometry</th>\n",
       "      <th>tags</th>\n",
       "      <th>osmscID</th>\n",
       "      <th>Waterbody_area</th>\n",
       "      <th>Waterbody_perimeter</th>\n",
       "      <th>withinUrbanTile</th>\n",
       "    </tr>\n",
       "  </thead>\n",
       "  <tbody>\n",
       "    <tr>\n",
       "      <th>0</th>\n",
       "      <td>29280785</td>\n",
       "      <td>POLYGON ((456348.686 5413309.948, 456455.663 5...</td>\n",
       "      <td>{'access': 'no', 'architect': 'Eugène Belgrand...</td>\n",
       "      <td>WaterBody_29280785</td>\n",
       "      <td>22047.053978</td>\n",
       "      <td>571.839387</td>\n",
       "      <td>[UrbanTile_26]</td>\n",
       "    </tr>\n",
       "    <tr>\n",
       "      <th>1</th>\n",
       "      <td>63237122</td>\n",
       "      <td>POLYGON ((456426.277 5414108.045, 456461.832 5...</td>\n",
       "      <td>{'access': 'no', 'architect': 'Eugène Belgrand...</td>\n",
       "      <td>WaterBody_63237122</td>\n",
       "      <td>18289.473141</td>\n",
       "      <td>542.477899</td>\n",
       "      <td>[UrbanTile_69]</td>\n",
       "    </tr>\n",
       "  </tbody>\n",
       "</table>\n",
       "</div>"
      ],
      "text/plain": [
       "      osmid                                           geometry  \\\n",
       "0  29280785  POLYGON ((456348.686 5413309.948, 456455.663 5...   \n",
       "1  63237122  POLYGON ((456426.277 5414108.045, 456461.832 5...   \n",
       "\n",
       "                                                tags             osmscID  \\\n",
       "0  {'access': 'no', 'architect': 'Eugène Belgrand...  WaterBody_29280785   \n",
       "1  {'access': 'no', 'architect': 'Eugène Belgrand...  WaterBody_63237122   \n",
       "\n",
       "   Waterbody_area  Waterbody_perimeter withinUrbanTile  \n",
       "0    22047.053978           571.839387  [UrbanTile_26]  \n",
       "1    18289.473141           542.477899  [UrbanTile_69]  "
      ]
     },
     "execution_count": 11,
     "metadata": {},
     "output_type": "execute_result"
    }
   ],
   "source": [
    "WG_gdf_prj.head(2)"
   ]
  },
  {
   "cell_type": "code",
   "execution_count": 12,
   "metadata": {},
   "outputs": [
    {
     "data": {
      "text/html": [
       "<div>\n",
       "<style scoped>\n",
       "    .dataframe tbody tr th:only-of-type {\n",
       "        vertical-align: middle;\n",
       "    }\n",
       "\n",
       "    .dataframe tbody tr th {\n",
       "        vertical-align: top;\n",
       "    }\n",
       "\n",
       "    .dataframe thead th {\n",
       "        text-align: right;\n",
       "    }\n",
       "</style>\n",
       "<table border=\"1\" class=\"dataframe\">\n",
       "  <thead>\n",
       "    <tr style=\"text-align: right;\">\n",
       "      <th></th>\n",
       "      <th>geometry</th>\n",
       "      <th>osmscID</th>\n",
       "      <th>UrbanTile_area</th>\n",
       "      <th>UrbanTile_perimeter</th>\n",
       "      <th>containsBuilding</th>\n",
       "      <th>containsVegetation</th>\n",
       "      <th>containsWaterbody</th>\n",
       "    </tr>\n",
       "  </thead>\n",
       "  <tbody>\n",
       "    <tr>\n",
       "      <th>0</th>\n",
       "      <td>POLYGON ((455319.368 5413938.058, 455319.574 5...</td>\n",
       "      <td>UrbanTile_0</td>\n",
       "      <td>14206.078301</td>\n",
       "      <td>550.042857</td>\n",
       "      <td>[Building_63232641, Building_63233862, Buildin...</td>\n",
       "      <td>[Vegetation_1076825084, Vegetation_536464856]</td>\n",
       "      <td>[nan]</td>\n",
       "    </tr>\n",
       "    <tr>\n",
       "      <th>1</th>\n",
       "      <td>POLYGON ((455464.009 5413939.332, 455464.775 5...</td>\n",
       "      <td>UrbanTile_1</td>\n",
       "      <td>28787.141232</td>\n",
       "      <td>654.760361</td>\n",
       "      <td>[Building_63241205, Building_63237978, Buildin...</td>\n",
       "      <td>[Vegetation_368974898, Vegetation_542011324, V...</td>\n",
       "      <td>[nan]</td>\n",
       "    </tr>\n",
       "  </tbody>\n",
       "</table>\n",
       "</div>"
      ],
      "text/plain": [
       "                                            geometry      osmscID  \\\n",
       "0  POLYGON ((455319.368 5413938.058, 455319.574 5...  UrbanTile_0   \n",
       "1  POLYGON ((455464.009 5413939.332, 455464.775 5...  UrbanTile_1   \n",
       "\n",
       "   UrbanTile_area  UrbanTile_perimeter  \\\n",
       "0    14206.078301           550.042857   \n",
       "1    28787.141232           654.760361   \n",
       "\n",
       "                                    containsBuilding  \\\n",
       "0  [Building_63232641, Building_63233862, Buildin...   \n",
       "1  [Building_63241205, Building_63237978, Buildin...   \n",
       "\n",
       "                                  containsVegetation containsWaterbody  \n",
       "0      [Vegetation_1076825084, Vegetation_536464856]             [nan]  \n",
       "1  [Vegetation_368974898, Vegetation_542011324, V...             [nan]  "
      ]
     },
     "execution_count": 12,
     "metadata": {},
     "output_type": "execute_result"
    }
   ],
   "source": [
    "urban_tile_gdf_prj.head(2)"
   ]
  }
 ],
 "metadata": {
  "kernelspec": {
   "display_name": "base",
   "language": "python",
   "name": "python3"
  },
  "language_info": {
   "codemirror_mode": {
    "name": "ipython",
    "version": 3
   },
   "file_extension": ".py",
   "mimetype": "text/x-python",
   "name": "python",
   "nbconvert_exporter": "python",
   "pygments_lexer": "ipython3",
   "version": "3.9.12 (main, Apr  4 2022, 05:22:27) [MSC v.1916 64 bit (AMD64)]"
  },
  "vscode": {
   "interpreter": {
    "hash": "b356e958c6fa91fa7975d3b6fc5a230e06915a0f789bbc5d0a57cbe7a55831e0"
   }
  }
 },
 "nbformat": 4,
 "nbformat_minor": 2
}
